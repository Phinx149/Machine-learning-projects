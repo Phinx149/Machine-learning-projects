{
  "cells": [
    {
      "cell_type": "markdown",
      "source": [
        "---\n",
        "<h1 style=\"text-align: center;\">\n",
        "CSCI 4521: Applied Machine Learning (Fall 2024)\n",
        "</h1>\n",
        "\n",
        "<h1 style=\"text-align: center;\">\n",
        "Homework 3\n",
        "</h1>\n",
        "\n",
        "<h3 style=\"text-align: center;\">\n",
        "(Due Tue, Oct. 29, 11:59 PM CT)\n",
        "</h3>\n",
        "\n",
        "---"
      ],
      "metadata": {
        "id": "sMOcAWDDHRAI"
      }
    },
    {
      "cell_type": "markdown",
      "source": [
        "### The RMS Titanic was a British ocean liner considered by many as \"unsinkable.\" Unfortunately, the Titanic hit an iceberge and sank on April 15, 1912 on her trip from Southampton, England to New York City, USA. There were not enough lifeboards onboard for everyone and, as a result, an estimated 1500 people died out of the 2224 passengers and crew onboard. The Titanic disaster was one of the deadliest ship sinkings. There was a large element of luck involved in surviving the shipwreck but some people were more likely to survive than others."
      ],
      "metadata": {
        "id": "UCy5-AEvHbMw"
      }
    },
    {
      "cell_type": "markdown",
      "source": [
        "![rms-titanic-14047.png](attachment:d3b8257e-f179-4545-8953-e44343a5f64d.png)\n"
      ],
      "metadata": {
        "id": "uQbH06q3HwMy"
      }
    },
    {
      "cell_type": "markdown",
      "source": [
        "### In this homework, your task is to predict whether a passenger will survive the shipwreck or not. You need to use machine learning and develop classification models to accomplish this task. The only data you have available is passenger data in the dataset `titanic_dataset_csci4521.csv` which consists of the following features:\n",
        "- ### Passenger ID,\n",
        "- ### Ticket class (1 = first class, 2 = second class, 3 = third class),\n",
        "- ### Passenger name,\n",
        "- ### Sex,\n",
        "- ### Age,\n",
        "- ### Number of siblings or spouses aboard,\n",
        "- ### Number of parents or children aboard,\n",
        "- ### Ticket number,\n",
        "- ### Fare,\n",
        "- ### Cabin number, and\n",
        "- ### Port of Embarkation (C = Cherbourg, Q = Queenstown, S = Southampton)\n",
        "### and label:\n",
        "- ### Survived ($y_i=1$) or\n",
        "- ### Not survived ($y_i = 0$).\n",
        "### You must decide if and how to clean and preprocess the data, which classification algorithms to use, which and how to tune any hyperparameters, how to measure performance, which models to select, and which final model to use."
      ],
      "metadata": {
        "id": "CQhiRzB8IIEP"
      }
    },
    {
      "cell_type": "markdown",
      "source": [
        "---"
      ],
      "metadata": {
        "id": "izQHJVQfIdBZ"
      }
    },
    {
      "cell_type": "markdown",
      "source": [
        "### Write your code here"
      ],
      "metadata": {
        "id": "3qWZtNS5IpLQ"
      }
    },
    {
      "cell_type": "code",
      "execution_count": 130,
      "metadata": {
        "id": "sA5jD54BrHPh"
      },
      "outputs": [],
      "source": [
        "import numpy as np\n",
        "import pandas as pd\n",
        "from scipy.stats import chisquare\n",
        "from sklearn.preprocessing import MinMaxScaler,StandardScaler\n",
        "from sklearn.preprocessing import LabelEncoder\n",
        "from sklearn.feature_selection import  chi2,f_classif,SelectKBest\n",
        "\n",
        "data=pd.read_csv(\"/content/titanic_dataset_csci4521.csv\")\n"
      ]
    },
    {
      "cell_type": "markdown",
      "source": [
        "Dropping features that dont have any correlation to data"
      ],
      "metadata": {
        "id": "2bCJwtTzm2SQ"
      }
    },
    {
      "cell_type": "code",
      "execution_count": 131,
      "metadata": {
        "colab": {
          "base_uri": "https://localhost:8080/",
          "height": 380
        },
        "id": "Ykh7rW-gV3OI",
        "outputId": "5e8c65d3-3e7c-4af5-f0d5-af681be6ca65"
      },
      "outputs": [
        {
          "output_type": "stream",
          "name": "stdout",
          "text": [
            "Remove useless features\n"
          ]
        },
        {
          "output_type": "execute_result",
          "data": {
            "text/plain": [
              "   Survived  Pclass     Sex   Age  SibSp  Parch     Fare Cabin Embarked\n",
              "0         0     3.0    male  22.0    1.0      0   7.2500   NaN        S\n",
              "1         1     1.0  female  38.0    1.0      0  71.2833   C85        C\n",
              "2         1     3.0  female  26.0    0.0      0   7.9250   NaN        S\n",
              "3         1     1.0  female  35.0    1.0      0  53.1000  C123        S\n",
              "4         0     3.0    male  35.0    0.0      0   8.0500   NaN        S\n",
              "5         0     3.0    male   NaN    0.0      0   8.4583   NaN        Q\n",
              "6         0     1.0    male  54.0    0.0      0  51.8625   E46        S\n",
              "7         0     3.0    male   2.0    3.0      1  21.0750   NaN        S\n",
              "8         1     3.0  female  27.0    0.0      2  11.1333   NaN        S\n",
              "9         1     2.0  female  14.0    1.0      0  30.0708   NaN        C"
            ],
            "text/html": [
              "\n",
              "  <div id=\"df-d522f429-f029-4853-87ca-7552cdb8e5ff\" class=\"colab-df-container\">\n",
              "    <div>\n",
              "<style scoped>\n",
              "    .dataframe tbody tr th:only-of-type {\n",
              "        vertical-align: middle;\n",
              "    }\n",
              "\n",
              "    .dataframe tbody tr th {\n",
              "        vertical-align: top;\n",
              "    }\n",
              "\n",
              "    .dataframe thead th {\n",
              "        text-align: right;\n",
              "    }\n",
              "</style>\n",
              "<table border=\"1\" class=\"dataframe\">\n",
              "  <thead>\n",
              "    <tr style=\"text-align: right;\">\n",
              "      <th></th>\n",
              "      <th>Survived</th>\n",
              "      <th>Pclass</th>\n",
              "      <th>Sex</th>\n",
              "      <th>Age</th>\n",
              "      <th>SibSp</th>\n",
              "      <th>Parch</th>\n",
              "      <th>Fare</th>\n",
              "      <th>Cabin</th>\n",
              "      <th>Embarked</th>\n",
              "    </tr>\n",
              "  </thead>\n",
              "  <tbody>\n",
              "    <tr>\n",
              "      <th>0</th>\n",
              "      <td>0</td>\n",
              "      <td>3.0</td>\n",
              "      <td>male</td>\n",
              "      <td>22.0</td>\n",
              "      <td>1.0</td>\n",
              "      <td>0</td>\n",
              "      <td>7.2500</td>\n",
              "      <td>NaN</td>\n",
              "      <td>S</td>\n",
              "    </tr>\n",
              "    <tr>\n",
              "      <th>1</th>\n",
              "      <td>1</td>\n",
              "      <td>1.0</td>\n",
              "      <td>female</td>\n",
              "      <td>38.0</td>\n",
              "      <td>1.0</td>\n",
              "      <td>0</td>\n",
              "      <td>71.2833</td>\n",
              "      <td>C85</td>\n",
              "      <td>C</td>\n",
              "    </tr>\n",
              "    <tr>\n",
              "      <th>2</th>\n",
              "      <td>1</td>\n",
              "      <td>3.0</td>\n",
              "      <td>female</td>\n",
              "      <td>26.0</td>\n",
              "      <td>0.0</td>\n",
              "      <td>0</td>\n",
              "      <td>7.9250</td>\n",
              "      <td>NaN</td>\n",
              "      <td>S</td>\n",
              "    </tr>\n",
              "    <tr>\n",
              "      <th>3</th>\n",
              "      <td>1</td>\n",
              "      <td>1.0</td>\n",
              "      <td>female</td>\n",
              "      <td>35.0</td>\n",
              "      <td>1.0</td>\n",
              "      <td>0</td>\n",
              "      <td>53.1000</td>\n",
              "      <td>C123</td>\n",
              "      <td>S</td>\n",
              "    </tr>\n",
              "    <tr>\n",
              "      <th>4</th>\n",
              "      <td>0</td>\n",
              "      <td>3.0</td>\n",
              "      <td>male</td>\n",
              "      <td>35.0</td>\n",
              "      <td>0.0</td>\n",
              "      <td>0</td>\n",
              "      <td>8.0500</td>\n",
              "      <td>NaN</td>\n",
              "      <td>S</td>\n",
              "    </tr>\n",
              "    <tr>\n",
              "      <th>5</th>\n",
              "      <td>0</td>\n",
              "      <td>3.0</td>\n",
              "      <td>male</td>\n",
              "      <td>NaN</td>\n",
              "      <td>0.0</td>\n",
              "      <td>0</td>\n",
              "      <td>8.4583</td>\n",
              "      <td>NaN</td>\n",
              "      <td>Q</td>\n",
              "    </tr>\n",
              "    <tr>\n",
              "      <th>6</th>\n",
              "      <td>0</td>\n",
              "      <td>1.0</td>\n",
              "      <td>male</td>\n",
              "      <td>54.0</td>\n",
              "      <td>0.0</td>\n",
              "      <td>0</td>\n",
              "      <td>51.8625</td>\n",
              "      <td>E46</td>\n",
              "      <td>S</td>\n",
              "    </tr>\n",
              "    <tr>\n",
              "      <th>7</th>\n",
              "      <td>0</td>\n",
              "      <td>3.0</td>\n",
              "      <td>male</td>\n",
              "      <td>2.0</td>\n",
              "      <td>3.0</td>\n",
              "      <td>1</td>\n",
              "      <td>21.0750</td>\n",
              "      <td>NaN</td>\n",
              "      <td>S</td>\n",
              "    </tr>\n",
              "    <tr>\n",
              "      <th>8</th>\n",
              "      <td>1</td>\n",
              "      <td>3.0</td>\n",
              "      <td>female</td>\n",
              "      <td>27.0</td>\n",
              "      <td>0.0</td>\n",
              "      <td>2</td>\n",
              "      <td>11.1333</td>\n",
              "      <td>NaN</td>\n",
              "      <td>S</td>\n",
              "    </tr>\n",
              "    <tr>\n",
              "      <th>9</th>\n",
              "      <td>1</td>\n",
              "      <td>2.0</td>\n",
              "      <td>female</td>\n",
              "      <td>14.0</td>\n",
              "      <td>1.0</td>\n",
              "      <td>0</td>\n",
              "      <td>30.0708</td>\n",
              "      <td>NaN</td>\n",
              "      <td>C</td>\n",
              "    </tr>\n",
              "  </tbody>\n",
              "</table>\n",
              "</div>\n",
              "    <div class=\"colab-df-buttons\">\n",
              "\n",
              "  <div class=\"colab-df-container\">\n",
              "    <button class=\"colab-df-convert\" onclick=\"convertToInteractive('df-d522f429-f029-4853-87ca-7552cdb8e5ff')\"\n",
              "            title=\"Convert this dataframe to an interactive table.\"\n",
              "            style=\"display:none;\">\n",
              "\n",
              "  <svg xmlns=\"http://www.w3.org/2000/svg\" height=\"24px\" viewBox=\"0 -960 960 960\">\n",
              "    <path d=\"M120-120v-720h720v720H120Zm60-500h600v-160H180v160Zm220 220h160v-160H400v160Zm0 220h160v-160H400v160ZM180-400h160v-160H180v160Zm440 0h160v-160H620v160ZM180-180h160v-160H180v160Zm440 0h160v-160H620v160Z\"/>\n",
              "  </svg>\n",
              "    </button>\n",
              "\n",
              "  <style>\n",
              "    .colab-df-container {\n",
              "      display:flex;\n",
              "      gap: 12px;\n",
              "    }\n",
              "\n",
              "    .colab-df-convert {\n",
              "      background-color: #E8F0FE;\n",
              "      border: none;\n",
              "      border-radius: 50%;\n",
              "      cursor: pointer;\n",
              "      display: none;\n",
              "      fill: #1967D2;\n",
              "      height: 32px;\n",
              "      padding: 0 0 0 0;\n",
              "      width: 32px;\n",
              "    }\n",
              "\n",
              "    .colab-df-convert:hover {\n",
              "      background-color: #E2EBFA;\n",
              "      box-shadow: 0px 1px 2px rgba(60, 64, 67, 0.3), 0px 1px 3px 1px rgba(60, 64, 67, 0.15);\n",
              "      fill: #174EA6;\n",
              "    }\n",
              "\n",
              "    .colab-df-buttons div {\n",
              "      margin-bottom: 4px;\n",
              "    }\n",
              "\n",
              "    [theme=dark] .colab-df-convert {\n",
              "      background-color: #3B4455;\n",
              "      fill: #D2E3FC;\n",
              "    }\n",
              "\n",
              "    [theme=dark] .colab-df-convert:hover {\n",
              "      background-color: #434B5C;\n",
              "      box-shadow: 0px 1px 3px 1px rgba(0, 0, 0, 0.15);\n",
              "      filter: drop-shadow(0px 1px 2px rgba(0, 0, 0, 0.3));\n",
              "      fill: #FFFFFF;\n",
              "    }\n",
              "  </style>\n",
              "\n",
              "    <script>\n",
              "      const buttonEl =\n",
              "        document.querySelector('#df-d522f429-f029-4853-87ca-7552cdb8e5ff button.colab-df-convert');\n",
              "      buttonEl.style.display =\n",
              "        google.colab.kernel.accessAllowed ? 'block' : 'none';\n",
              "\n",
              "      async function convertToInteractive(key) {\n",
              "        const element = document.querySelector('#df-d522f429-f029-4853-87ca-7552cdb8e5ff');\n",
              "        const dataTable =\n",
              "          await google.colab.kernel.invokeFunction('convertToInteractive',\n",
              "                                                    [key], {});\n",
              "        if (!dataTable) return;\n",
              "\n",
              "        const docLinkHtml = 'Like what you see? Visit the ' +\n",
              "          '<a target=\"_blank\" href=https://colab.research.google.com/notebooks/data_table.ipynb>data table notebook</a>'\n",
              "          + ' to learn more about interactive tables.';\n",
              "        element.innerHTML = '';\n",
              "        dataTable['output_type'] = 'display_data';\n",
              "        await google.colab.output.renderOutput(dataTable, element);\n",
              "        const docLink = document.createElement('div');\n",
              "        docLink.innerHTML = docLinkHtml;\n",
              "        element.appendChild(docLink);\n",
              "      }\n",
              "    </script>\n",
              "  </div>\n",
              "\n",
              "\n",
              "<div id=\"df-60cf9920-e76c-4c33-b91b-23eef6e27f63\">\n",
              "  <button class=\"colab-df-quickchart\" onclick=\"quickchart('df-60cf9920-e76c-4c33-b91b-23eef6e27f63')\"\n",
              "            title=\"Suggest charts\"\n",
              "            style=\"display:none;\">\n",
              "\n",
              "<svg xmlns=\"http://www.w3.org/2000/svg\" height=\"24px\"viewBox=\"0 0 24 24\"\n",
              "     width=\"24px\">\n",
              "    <g>\n",
              "        <path d=\"M19 3H5c-1.1 0-2 .9-2 2v14c0 1.1.9 2 2 2h14c1.1 0 2-.9 2-2V5c0-1.1-.9-2-2-2zM9 17H7v-7h2v7zm4 0h-2V7h2v10zm4 0h-2v-4h2v4z\"/>\n",
              "    </g>\n",
              "</svg>\n",
              "  </button>\n",
              "\n",
              "<style>\n",
              "  .colab-df-quickchart {\n",
              "      --bg-color: #E8F0FE;\n",
              "      --fill-color: #1967D2;\n",
              "      --hover-bg-color: #E2EBFA;\n",
              "      --hover-fill-color: #174EA6;\n",
              "      --disabled-fill-color: #AAA;\n",
              "      --disabled-bg-color: #DDD;\n",
              "  }\n",
              "\n",
              "  [theme=dark] .colab-df-quickchart {\n",
              "      --bg-color: #3B4455;\n",
              "      --fill-color: #D2E3FC;\n",
              "      --hover-bg-color: #434B5C;\n",
              "      --hover-fill-color: #FFFFFF;\n",
              "      --disabled-bg-color: #3B4455;\n",
              "      --disabled-fill-color: #666;\n",
              "  }\n",
              "\n",
              "  .colab-df-quickchart {\n",
              "    background-color: var(--bg-color);\n",
              "    border: none;\n",
              "    border-radius: 50%;\n",
              "    cursor: pointer;\n",
              "    display: none;\n",
              "    fill: var(--fill-color);\n",
              "    height: 32px;\n",
              "    padding: 0;\n",
              "    width: 32px;\n",
              "  }\n",
              "\n",
              "  .colab-df-quickchart:hover {\n",
              "    background-color: var(--hover-bg-color);\n",
              "    box-shadow: 0 1px 2px rgba(60, 64, 67, 0.3), 0 1px 3px 1px rgba(60, 64, 67, 0.15);\n",
              "    fill: var(--button-hover-fill-color);\n",
              "  }\n",
              "\n",
              "  .colab-df-quickchart-complete:disabled,\n",
              "  .colab-df-quickchart-complete:disabled:hover {\n",
              "    background-color: var(--disabled-bg-color);\n",
              "    fill: var(--disabled-fill-color);\n",
              "    box-shadow: none;\n",
              "  }\n",
              "\n",
              "  .colab-df-spinner {\n",
              "    border: 2px solid var(--fill-color);\n",
              "    border-color: transparent;\n",
              "    border-bottom-color: var(--fill-color);\n",
              "    animation:\n",
              "      spin 1s steps(1) infinite;\n",
              "  }\n",
              "\n",
              "  @keyframes spin {\n",
              "    0% {\n",
              "      border-color: transparent;\n",
              "      border-bottom-color: var(--fill-color);\n",
              "      border-left-color: var(--fill-color);\n",
              "    }\n",
              "    20% {\n",
              "      border-color: transparent;\n",
              "      border-left-color: var(--fill-color);\n",
              "      border-top-color: var(--fill-color);\n",
              "    }\n",
              "    30% {\n",
              "      border-color: transparent;\n",
              "      border-left-color: var(--fill-color);\n",
              "      border-top-color: var(--fill-color);\n",
              "      border-right-color: var(--fill-color);\n",
              "    }\n",
              "    40% {\n",
              "      border-color: transparent;\n",
              "      border-right-color: var(--fill-color);\n",
              "      border-top-color: var(--fill-color);\n",
              "    }\n",
              "    60% {\n",
              "      border-color: transparent;\n",
              "      border-right-color: var(--fill-color);\n",
              "    }\n",
              "    80% {\n",
              "      border-color: transparent;\n",
              "      border-right-color: var(--fill-color);\n",
              "      border-bottom-color: var(--fill-color);\n",
              "    }\n",
              "    90% {\n",
              "      border-color: transparent;\n",
              "      border-bottom-color: var(--fill-color);\n",
              "    }\n",
              "  }\n",
              "</style>\n",
              "\n",
              "  <script>\n",
              "    async function quickchart(key) {\n",
              "      const quickchartButtonEl =\n",
              "        document.querySelector('#' + key + ' button');\n",
              "      quickchartButtonEl.disabled = true;  // To prevent multiple clicks.\n",
              "      quickchartButtonEl.classList.add('colab-df-spinner');\n",
              "      try {\n",
              "        const charts = await google.colab.kernel.invokeFunction(\n",
              "            'suggestCharts', [key], {});\n",
              "      } catch (error) {\n",
              "        console.error('Error during call to suggestCharts:', error);\n",
              "      }\n",
              "      quickchartButtonEl.classList.remove('colab-df-spinner');\n",
              "      quickchartButtonEl.classList.add('colab-df-quickchart-complete');\n",
              "    }\n",
              "    (() => {\n",
              "      let quickchartButtonEl =\n",
              "        document.querySelector('#df-60cf9920-e76c-4c33-b91b-23eef6e27f63 button');\n",
              "      quickchartButtonEl.style.display =\n",
              "        google.colab.kernel.accessAllowed ? 'block' : 'none';\n",
              "    })();\n",
              "  </script>\n",
              "</div>\n",
              "\n",
              "    </div>\n",
              "  </div>\n"
            ],
            "application/vnd.google.colaboratory.intrinsic+json": {
              "type": "dataframe",
              "variable_name": "data",
              "summary": "{\n  \"name\": \"data\",\n  \"rows\": 894,\n  \"fields\": [\n    {\n      \"column\": \"Survived\",\n      \"properties\": {\n        \"dtype\": \"number\",\n        \"std\": 0,\n        \"min\": 0,\n        \"max\": 1,\n        \"num_unique_values\": 2,\n        \"samples\": [\n          1,\n          0\n        ],\n        \"semantic_type\": \"\",\n        \"description\": \"\"\n      }\n    },\n    {\n      \"column\": \"Pclass\",\n      \"properties\": {\n        \"dtype\": \"number\",\n        \"std\": 0.8358553066015755,\n        \"min\": 1.0,\n        \"max\": 3.0,\n        \"num_unique_values\": 3,\n        \"samples\": [\n          3.0,\n          1.0\n        ],\n        \"semantic_type\": \"\",\n        \"description\": \"\"\n      }\n    },\n    {\n      \"column\": \"Sex\",\n      \"properties\": {\n        \"dtype\": \"category\",\n        \"num_unique_values\": 2,\n        \"samples\": [\n          \"female\",\n          \"male\"\n        ],\n        \"semantic_type\": \"\",\n        \"description\": \"\"\n      }\n    },\n    {\n      \"column\": \"Age\",\n      \"properties\": {\n        \"dtype\": \"number\",\n        \"std\": 23.72384742035713,\n        \"min\": -17.0,\n        \"max\": 500.0,\n        \"num_unique_values\": 92,\n        \"samples\": [\n          23.0,\n          21.0\n        ],\n        \"semantic_type\": \"\",\n        \"description\": \"\"\n      }\n    },\n    {\n      \"column\": \"SibSp\",\n      \"properties\": {\n        \"dtype\": \"number\",\n        \"std\": 10.082389994507803,\n        \"min\": -3.0,\n        \"max\": 300.0,\n        \"num_unique_values\": 9,\n        \"samples\": [\n          8.0,\n          0.0\n        ],\n        \"semantic_type\": \"\",\n        \"description\": \"\"\n      }\n    },\n    {\n      \"column\": \"Parch\",\n      \"properties\": {\n        \"dtype\": \"number\",\n        \"std\": 66,\n        \"min\": 0,\n        \"max\": 2000,\n        \"num_unique_values\": 8,\n        \"samples\": [\n          1,\n          4\n        ],\n        \"semantic_type\": \"\",\n        \"description\": \"\"\n      }\n    },\n    {\n      \"column\": \"Fare\",\n      \"properties\": {\n        \"dtype\": \"number\",\n        \"std\": 49.625074072690474,\n        \"min\": 0.0,\n        \"max\": 512.3292,\n        \"num_unique_values\": 248,\n        \"samples\": [\n          11.2417,\n          51.8625\n        ],\n        \"semantic_type\": \"\",\n        \"description\": \"\"\n      }\n    },\n    {\n      \"column\": \"Cabin\",\n      \"properties\": {\n        \"dtype\": \"category\",\n        \"num_unique_values\": 147,\n        \"samples\": [\n          \"D45\",\n          \"B49\"\n        ],\n        \"semantic_type\": \"\",\n        \"description\": \"\"\n      }\n    },\n    {\n      \"column\": \"Embarked\",\n      \"properties\": {\n        \"dtype\": \"category\",\n        \"num_unique_values\": 3,\n        \"samples\": [\n          \"S\",\n          \"C\"\n        ],\n        \"semantic_type\": \"\",\n        \"description\": \"\"\n      }\n    }\n  ]\n}"
            }
          },
          "metadata": {},
          "execution_count": 131
        }
      ],
      "source": [
        "print(\"Remove useless features\")\n",
        "data=data.drop([\"PassengerId\",\"Name\",\"Ticket\"],axis=1)# removed passenger Id  name and Ticket(basically ticket id) as beleive that they have not correlation toward prediciton of surviving\n",
        "data.head(n=10)"
      ]
    },
    {
      "cell_type": "markdown",
      "source": [
        "Removing null values"
      ],
      "metadata": {
        "id": "7f-VnBpbit-3"
      }
    },
    {
      "cell_type": "code",
      "execution_count": 132,
      "metadata": {
        "colab": {
          "base_uri": "https://localhost:8080/"
        },
        "id": "nW3ySEAeFVPt",
        "outputId": "21a7311e-e1f3-4740-f45d-fdec418a2bb0"
      },
      "outputs": [
        {
          "output_type": "stream",
          "name": "stdout",
          "text": [
            "null values part\n",
            "Sum of null values for each columns before removing null columns and rows:\n",
            " Survived      0\n",
            "Pclass       11\n",
            "Sex           5\n",
            "Age         178\n",
            "SibSp         1\n",
            "Parch         0\n",
            "Fare          0\n",
            "Cabin       690\n",
            "Embarked     17\n",
            "dtype: int64\n",
            "Sum of null values for each columns after removing all null values:\n",
            " Survived    0\n",
            "Pclass      0\n",
            "Sex         0\n",
            "Age         0\n",
            "SibSp       0\n",
            "Parch       0\n",
            "Fare        0\n",
            "Embarked    0\n",
            "dtype: int64\n"
          ]
        }
      ],
      "source": [
        "print(\"null values part\")\n",
        "print(\"Sum of null values for each columns before removing null columns and rows:\\n\",data.isnull().sum())\n",
        "data=data.drop(\"Cabin\",axis=1)# remove cabin as more 75% of the data in cabin is null so cannot actually use column\n",
        "data[\"Age\"]=data[\"Age\"].replace(np.nan,data[\"Age\"].median())# replace Age null values with median age\n",
        "data=data.dropna()\n",
        "print(\"Sum of null values for each columns after removing all null values:\\n\",data.isnull().sum())"
      ]
    },
    {
      "cell_type": "markdown",
      "source": [
        "Encoding data sex and embarked"
      ],
      "metadata": {
        "id": "PdhxENQ6lkTL"
      }
    },
    {
      "cell_type": "code",
      "execution_count": 133,
      "metadata": {
        "colab": {
          "base_uri": "https://localhost:8080/"
        },
        "id": "9mrd4cY_Uh4y",
        "outputId": "64a6c663-dcf3-42b9-df3c-0e3a05d02d51"
      },
      "outputs": [
        {
          "output_type": "stream",
          "name": "stdout",
          "text": [
            "before encoding:\n",
            "\n",
            "   Survived  Pclass     Sex   Age  SibSp  Parch     Fare Embarked\n",
            "0         0     3.0    male  22.0    1.0      0   7.2500        S\n",
            "1         1     1.0  female  38.0    1.0      0  71.2833        C\n",
            "2         1     3.0  female  26.0    0.0      0   7.9250        S\n",
            "3         1     1.0  female  35.0    1.0      0  53.1000        S\n",
            "4         0     3.0    male  35.0    0.0      0   8.0500        S\n",
            "5         0     3.0    male  28.0    0.0      0   8.4583        Q\n",
            "6         0     1.0    male  54.0    0.0      0  51.8625        S\n",
            "7         0     3.0    male   2.0    3.0      1  21.0750        S\n",
            "8         1     3.0  female  27.0    0.0      2  11.1333        S\n",
            "9         1     2.0  female  14.0    1.0      0  30.0708        C \n",
            "\n",
            "data after encoding:\n",
            "\n",
            "   Survived  Pclass  Sex   Age  SibSp  Parch     Fare  Embarked\n",
            "0         0     3.0    1  22.0    1.0      0   7.2500         2\n",
            "1         1     1.0    0  38.0    1.0      0  71.2833         0\n",
            "2         1     3.0    0  26.0    0.0      0   7.9250         2\n",
            "3         1     1.0    0  35.0    1.0      0  53.1000         2\n",
            "4         0     3.0    1  35.0    0.0      0   8.0500         2\n",
            "5         0     3.0    1  28.0    0.0      0   8.4583         1\n",
            "6         0     1.0    1  54.0    0.0      0  51.8625         2\n",
            "7         0     3.0    1   2.0    3.0      1  21.0750         2\n",
            "8         1     3.0    0  27.0    0.0      2  11.1333         2\n",
            "9         1     2.0    0  14.0    1.0      0  30.0708         0\n"
          ]
        }
      ],
      "source": [
        "print(\"before encoding:\\n\")\n",
        "print(data.head(n=10),\"\\n\")\n",
        "label_encoder=LabelEncoder()\n",
        "data[\"Sex\"]=label_encoder.fit_transform(data[\"Sex\"])\n",
        "data[\"Embarked\"]=label_encoder.fit_transform(data[\"Embarked\"])\n",
        "print(\"data after encoding:\\n\")\n",
        "print(data.head(n=10))"
      ]
    },
    {
      "cell_type": "markdown",
      "source": [
        "Remove duplicates from data"
      ],
      "metadata": {
        "id": "C_ZhK4FGnJIw"
      }
    },
    {
      "cell_type": "code",
      "execution_count": 134,
      "metadata": {
        "colab": {
          "base_uri": "https://localhost:8080/"
        },
        "id": "wI6H4egHpkkk",
        "outputId": "502a3808-4a68-4829-95ba-b7b412c56ca6"
      },
      "outputs": [
        {
          "output_type": "stream",
          "name": "stdout",
          "text": [
            "The num data before removing duplicates\n",
            "\n",
            "num samples: 862 \n",
            "\n",
            "The num data be after removing duplicates\n",
            "\n",
            "num samples: 746\n"
          ]
        }
      ],
      "source": [
        "print(\"The num data before removing duplicates\\n\")\n",
        "print(\"num samples:\",data.shape[0],\"\\n\")\n",
        "data=data.drop_duplicates()\n",
        "print(\"The num data be after removing duplicates\\n\")\n",
        "print(\"num samples:\",data.shape[0])"
      ]
    },
    {
      "cell_type": "markdown",
      "source": [
        "Removing negative values from data"
      ],
      "metadata": {
        "id": "oieaV4YXjMYU"
      }
    },
    {
      "cell_type": "code",
      "execution_count": 135,
      "metadata": {
        "colab": {
          "base_uri": "https://localhost:8080/"
        },
        "id": "XeCB5fHJsHjZ",
        "outputId": "864a4107-149b-4d28-ce1a-f920ca8caf6f"
      },
      "outputs": [
        {
          "output_type": "stream",
          "name": "stdout",
          "text": [
            "Data statics before  removing negative valus\n",
            " \n",
            "     Survived  Pclass  Sex    Age  SibSp   Parch      Fare  Embarked\n",
            "min       0.0     1.0  0.0  -17.0   -3.0     0.0    0.0000       0.0\n",
            "max       1.0     3.0  1.0  500.0  300.0  2000.0  512.3292       2.0 \n",
            "\n",
            "Data statics before  removing negative valus\n",
            "\n",
            "     Survived  Pclass  Sex     Age  SibSp   Parch      Fare  Embarked\n",
            "min       0.0     1.0  0.0    0.42    0.0     0.0    0.0000       0.0\n",
            "max       1.0     3.0  1.0  500.00  300.0  2000.0  512.3292       2.0\n"
          ]
        }
      ],
      "source": [
        "print(\"Data statics before  removing negative valus\\n \")\n",
        "print(data.describe().filter([\"min\",\"max\"],axis=0),\"\\n\")# Min max for some of the data like parch is quite high so what to normalize data\n",
        "# some of the data seems to be negative when in fact it cannot be negative such as age and Sibsp so need to filter out  negative values\n",
        "data=data[(data[\"Age\"]>=0)]\n",
        "data=data[(data[\"SibSp\"]>=0)]\n",
        "print(\"Data statics before  removing negative valus\\n\")\n",
        "print(data.describe().filter([\"min\",\"max\"],axis=0))\n",
        "scalar=StandardScaler()\n"
      ]
    },
    {
      "cell_type": "markdown",
      "source": [
        "Creation new features Family and Rate per person"
      ],
      "metadata": {
        "id": "4uG86YuLiSv-"
      }
    },
    {
      "cell_type": "code",
      "execution_count": 136,
      "metadata": {
        "colab": {
          "base_uri": "https://localhost:8080/"
        },
        "id": "3oTnmWSUaKR_",
        "outputId": "0f9357d6-85fd-4d34-9775-ce3f3a35e044"
      },
      "outputs": [
        {
          "output_type": "stream",
          "name": "stdout",
          "text": [
            "Creation of new columns for data which include Family and rate per person:\n",
            "\n",
            "New columns of new data family and rate_per_person\n",
            "\n",
            "   Family  Rate_per_person\n",
            "0     2.0          3.62500\n",
            "1     2.0         35.64165\n",
            "2     1.0          7.92500\n",
            "3     2.0         26.55000\n",
            "4     1.0          8.05000\n",
            "5     1.0          8.45830\n",
            "6     1.0         51.86250\n",
            "7     5.0          4.21500\n",
            "8     3.0          3.71110\n",
            "9     2.0         15.03540\n"
          ]
        }
      ],
      "source": [
        "# Creating new features\n",
        "print(\"Creation of new columns for data which include Family and rate per person:\\n\")\n",
        "data['Family'] = data.apply(lambda row: row[\"SibSp\"]+row[\"Parch\"]+1,axis=1)\n",
        "data['Rate_per_person']=data.apply(lambda row: row[\"Fare\"]/row[\"Family\"],axis=1)\n",
        "\n",
        "#Print the DataFrame after addition of new column\n",
        "print(\"New columns of new data family and rate_per_person\\n\")\n",
        "print(data[[\"Family\",\"Rate_per_person\"]].head(n=10))"
      ]
    },
    {
      "cell_type": "markdown",
      "source": [
        "Removing of outliers from data"
      ],
      "metadata": {
        "id": "ji8zUJYqhzlH"
      }
    },
    {
      "cell_type": "code",
      "execution_count": 137,
      "metadata": {
        "colab": {
          "base_uri": "https://localhost:8080/"
        },
        "id": "htmMnpaIxCdB",
        "outputId": "be9fe054-54d1-45d7-b279-611779f7a85c"
      },
      "outputs": [
        {
          "output_type": "stream",
          "name": "stdout",
          "text": [
            "The number samples before removing the data:\n",
            " \n",
            "Num samples: 743 \n",
            "\n",
            "The outliers indexed\n",
            "\n",
            "indexes of outliers [ 24  27  88 118 131 196 259 270 298 300 312 326 339 343 375 379 382 440\n",
            " 530 547 560 612 692 703 711 719 733 740 745 782] \n",
            "\n",
            "Total number of outliers removed:  30 \n",
            "\n",
            "Number of samples after removing the outliers\n",
            "\n",
            "Num Samples: 713 \n",
            "\n"
          ]
        }
      ],
      "source": [
        "df=pd.DataFrame(data, columns=['Survived', 'Pclass', 'Sex', 'Age', 'SibSp', 'Parch',\"Family\", 'Fare',\"Rate_per_person\", 'Embarked'])\n",
        "df_cols=df.columns[3:9]\n",
        "df_rows=len(df.index)\n",
        "print(\"The number samples before removing the data:\\n \")\n",
        "print(\"Num samples:\",df_rows,\"\\n\")\n",
        "\n",
        "\n",
        "upperList=[]\n",
        "lowerList=[]\n",
        "memory_outlier=[]\n",
        "outlier_index=[]\n",
        "\n",
        "for i in df_cols:\n",
        "  mean=df[i].mean()\n",
        "  Std=df[i].std()\n",
        "  upper=mean+3*Std\n",
        "  lower=mean-3*Std\n",
        "\n",
        "  outlier_index.append(data[(data[i]>upper)|(data[i]<lower)].index.to_numpy())\n",
        "\n",
        "\n",
        "\n",
        "outlier_index=np.concatenate(outlier_index)\n",
        "\n",
        "\n",
        "print(\"The outliers indexed\\n\")\n",
        "outlier_index=np.unique(outlier_index)\n",
        "print(\"indexes of outliers\", outlier_index,\"\\n\")\n",
        "print(\"Total number of outliers removed: \",len(outlier_index),\"\\n\")\n",
        "for j in outlier_index:\n",
        "  data=data.drop(index=j,axis=0)\n",
        "\n",
        "\n",
        "print(\"Number of samples after removing the outliers\\n\")\n",
        "print(\"Num Samples:\",len(data.index),\"\\n\")\n",
        "\n",
        "\n"
      ]
    },
    {
      "cell_type": "markdown",
      "source": [
        "Standardizing data"
      ],
      "metadata": {
        "id": "MX4jFDoVjvtd"
      }
    },
    {
      "cell_type": "code",
      "execution_count": 138,
      "metadata": {
        "id": "u4HD1oy2fmAh",
        "colab": {
          "base_uri": "https://localhost:8080/"
        },
        "outputId": "379bd6db-b098-44e8-dae7-284eb0b03e77"
      },
      "outputs": [
        {
          "output_type": "stream",
          "name": "stdout",
          "text": [
            "data before standardizing\n",
            "\n",
            "   Survived  Pclass  Sex   Age  SibSp  Parch     Fare  Embarked  Family  \\\n",
            "0         0     3.0    1  22.0    1.0      0   7.2500         2     2.0   \n",
            "1         1     1.0    0  38.0    1.0      0  71.2833         0     2.0   \n",
            "2         1     3.0    0  26.0    0.0      0   7.9250         2     1.0   \n",
            "3         1     1.0    0  35.0    1.0      0  53.1000         2     2.0   \n",
            "4         0     3.0    1  35.0    0.0      0   8.0500         2     1.0   \n",
            "5         0     3.0    1  28.0    0.0      0   8.4583         1     1.0   \n",
            "6         0     1.0    1  54.0    0.0      0  51.8625         2     1.0   \n",
            "7         0     3.0    1   2.0    3.0      1  21.0750         2     5.0   \n",
            "8         1     3.0    0  27.0    0.0      2  11.1333         2     3.0   \n",
            "9         1     2.0    0  14.0    1.0      0  30.0708         0     2.0   \n",
            "\n",
            "   Rate_per_person  \n",
            "0          3.62500  \n",
            "1         35.64165  \n",
            "2          7.92500  \n",
            "3         26.55000  \n",
            "4          8.05000  \n",
            "5          8.45830  \n",
            "6         51.86250  \n",
            "7          4.21500  \n",
            "8          3.71110  \n",
            "9         15.03540   \n",
            "\n",
            "data after standardizing\n",
            "\n",
            "   Survived  Pclass  Sex       Age     SibSp     Parch    Family      Fare  \\\n",
            "0         0     3.0    1 -0.546634  0.499772 -0.487025  0.054486 -0.706309   \n",
            "1         1     1.0    0  0.610233  0.499772 -0.487025  0.054486  1.603138   \n",
            "2         1     3.0    0 -0.257417 -0.527137 -0.487025 -0.615313 -0.681964   \n",
            "3         1     1.0    0  0.393321  0.499772 -0.487025  0.054486  0.947333   \n",
            "4         0     3.0    1  0.393321 -0.527137 -0.487025 -0.615313 -0.677456   \n",
            "5         0     3.0    1 -0.112809 -0.527137 -0.487025 -0.615313 -0.662730   \n",
            "6         0     1.0    1  1.767100 -0.527137 -0.487025 -0.615313  0.902701   \n",
            "7         0     3.0    1 -1.992717  2.553589  0.714528  2.063882 -0.207692   \n",
            "8         1     3.0    0 -0.185113 -0.527137  1.916081  0.724284 -0.566253   \n",
            "9         1     2.0    0 -1.125067  0.499772 -0.487025  0.054486  0.116754   \n",
            "\n",
            "   Rate_per_person  Embarked  \n",
            "0        -0.770103         2  \n",
            "1         1.202295         0  \n",
            "2        -0.505200         2  \n",
            "3         0.642200         2  \n",
            "4        -0.497500         2  \n",
            "5        -0.472346         1  \n",
            "6         2.201586         2  \n",
            "7        -0.733756         2  \n",
            "8        -0.764799         2  \n",
            "9        -0.067161         0  \n"
          ]
        }
      ],
      "source": [
        "print(\"data before standardizing\\n\")\n",
        "print(data.head(n=10),\"\\n\")\n",
        "\n",
        "scalar=StandardScaler()\n",
        "data[[\"Age\",\"SibSp\",\"Parch\",\"Fare\",\"Family\",\"Rate_per_person\"]]=scalar.fit_transform(data[[\"Age\",\"SibSp\",\"Parch\",\"Fare\",\"Family\",\"Rate_per_person\"]])# filtered only continuous data to normalize\n",
        "df=pd.DataFrame(data, columns=['Survived', 'Pclass', 'Sex', 'Age', 'SibSp', 'Parch',\"Family\", 'Fare',\"Rate_per_person\", 'Embarked'])\n",
        "\n",
        "data=df\n",
        "print(\"data after standardizing\\n\")\n",
        "print(data.head(n=10))\n",
        "\n"
      ]
    },
    {
      "cell_type": "markdown",
      "source": [
        "Find importance of features using chi square and anova test"
      ],
      "metadata": {
        "id": "MU1_xEYyoBzZ"
      }
    },
    {
      "cell_type": "code",
      "execution_count": 139,
      "metadata": {
        "colab": {
          "base_uri": "https://localhost:8080/",
          "height": 814
        },
        "id": "kMJ-uFCF33LN",
        "outputId": "d8d300d7-22aa-4160-b761-c9e1c565ffad"
      },
      "outputs": [
        {
          "output_type": "stream",
          "name": "stdout",
          "text": [
            "Choosing importance based on any scores which are greater 5 which seem to indicate some level of significance\n",
            "\n",
            "chi square score for  Pclass : 21.409767378189187 \n",
            "\n",
            "chi square score for  Sex : 63.654340534721676 \n",
            "\n",
            "chi square score for  Embarked : 6.766838837905489 \n",
            "\n",
            "Based on chi square choose Pclass,Sex,Embarked as have score greater than 5 \n",
            "\n",
            "anova score for  Age : 8.247690321918217 \n",
            "\n",
            "anova score for  SibSp : 0.6542378540773591 \n",
            "\n",
            "anova score for  Parch : 6.0226350519515695 \n",
            "\n",
            "anova score for  Fare : 66.43699016232142 \n",
            "\n",
            "anova score for  Family : 0.6978116586357108 \n",
            "\n",
            "anova score for  Rate_per_person : 48.75063629352641 \n",
            "\n",
            "Choose anova scores greater than 5 which include Age,Fare,Parch,Rate_per_person\n",
            "\n",
            "The final data\n",
            "\n"
          ]
        },
        {
          "output_type": "execute_result",
          "data": {
            "text/plain": [
              "   Pclass  Sex      Fare       Age  Embarked     Parch  Rate_per_person\n",
              "0     3.0    1 -0.706309 -0.546634         2 -0.487025        -0.770103\n",
              "1     1.0    0  1.603138  0.610233         0 -0.487025         1.202295\n",
              "2     3.0    0 -0.681964 -0.257417         2 -0.487025        -0.505200\n",
              "3     1.0    0  0.947333  0.393321         2 -0.487025         0.642200\n",
              "4     3.0    1 -0.677456  0.393321         2 -0.487025        -0.497500\n",
              "5     3.0    1 -0.662730 -0.112809         1 -0.487025        -0.472346\n",
              "6     1.0    1  0.902701  1.767100         2 -0.487025         2.201586\n",
              "7     3.0    1 -0.207692 -1.992717         2  0.714528        -0.733756\n",
              "8     3.0    0 -0.566253 -0.185113         2  1.916081        -0.764799\n",
              "9     2.0    0  0.116754 -1.125067         0 -0.487025        -0.067161"
            ],
            "text/html": [
              "\n",
              "  <div id=\"df-12088493-645e-401e-b67a-59e47f486e3f\" class=\"colab-df-container\">\n",
              "    <div>\n",
              "<style scoped>\n",
              "    .dataframe tbody tr th:only-of-type {\n",
              "        vertical-align: middle;\n",
              "    }\n",
              "\n",
              "    .dataframe tbody tr th {\n",
              "        vertical-align: top;\n",
              "    }\n",
              "\n",
              "    .dataframe thead th {\n",
              "        text-align: right;\n",
              "    }\n",
              "</style>\n",
              "<table border=\"1\" class=\"dataframe\">\n",
              "  <thead>\n",
              "    <tr style=\"text-align: right;\">\n",
              "      <th></th>\n",
              "      <th>Pclass</th>\n",
              "      <th>Sex</th>\n",
              "      <th>Fare</th>\n",
              "      <th>Age</th>\n",
              "      <th>Embarked</th>\n",
              "      <th>Parch</th>\n",
              "      <th>Rate_per_person</th>\n",
              "    </tr>\n",
              "  </thead>\n",
              "  <tbody>\n",
              "    <tr>\n",
              "      <th>0</th>\n",
              "      <td>3.0</td>\n",
              "      <td>1</td>\n",
              "      <td>-0.706309</td>\n",
              "      <td>-0.546634</td>\n",
              "      <td>2</td>\n",
              "      <td>-0.487025</td>\n",
              "      <td>-0.770103</td>\n",
              "    </tr>\n",
              "    <tr>\n",
              "      <th>1</th>\n",
              "      <td>1.0</td>\n",
              "      <td>0</td>\n",
              "      <td>1.603138</td>\n",
              "      <td>0.610233</td>\n",
              "      <td>0</td>\n",
              "      <td>-0.487025</td>\n",
              "      <td>1.202295</td>\n",
              "    </tr>\n",
              "    <tr>\n",
              "      <th>2</th>\n",
              "      <td>3.0</td>\n",
              "      <td>0</td>\n",
              "      <td>-0.681964</td>\n",
              "      <td>-0.257417</td>\n",
              "      <td>2</td>\n",
              "      <td>-0.487025</td>\n",
              "      <td>-0.505200</td>\n",
              "    </tr>\n",
              "    <tr>\n",
              "      <th>3</th>\n",
              "      <td>1.0</td>\n",
              "      <td>0</td>\n",
              "      <td>0.947333</td>\n",
              "      <td>0.393321</td>\n",
              "      <td>2</td>\n",
              "      <td>-0.487025</td>\n",
              "      <td>0.642200</td>\n",
              "    </tr>\n",
              "    <tr>\n",
              "      <th>4</th>\n",
              "      <td>3.0</td>\n",
              "      <td>1</td>\n",
              "      <td>-0.677456</td>\n",
              "      <td>0.393321</td>\n",
              "      <td>2</td>\n",
              "      <td>-0.487025</td>\n",
              "      <td>-0.497500</td>\n",
              "    </tr>\n",
              "    <tr>\n",
              "      <th>5</th>\n",
              "      <td>3.0</td>\n",
              "      <td>1</td>\n",
              "      <td>-0.662730</td>\n",
              "      <td>-0.112809</td>\n",
              "      <td>1</td>\n",
              "      <td>-0.487025</td>\n",
              "      <td>-0.472346</td>\n",
              "    </tr>\n",
              "    <tr>\n",
              "      <th>6</th>\n",
              "      <td>1.0</td>\n",
              "      <td>1</td>\n",
              "      <td>0.902701</td>\n",
              "      <td>1.767100</td>\n",
              "      <td>2</td>\n",
              "      <td>-0.487025</td>\n",
              "      <td>2.201586</td>\n",
              "    </tr>\n",
              "    <tr>\n",
              "      <th>7</th>\n",
              "      <td>3.0</td>\n",
              "      <td>1</td>\n",
              "      <td>-0.207692</td>\n",
              "      <td>-1.992717</td>\n",
              "      <td>2</td>\n",
              "      <td>0.714528</td>\n",
              "      <td>-0.733756</td>\n",
              "    </tr>\n",
              "    <tr>\n",
              "      <th>8</th>\n",
              "      <td>3.0</td>\n",
              "      <td>0</td>\n",
              "      <td>-0.566253</td>\n",
              "      <td>-0.185113</td>\n",
              "      <td>2</td>\n",
              "      <td>1.916081</td>\n",
              "      <td>-0.764799</td>\n",
              "    </tr>\n",
              "    <tr>\n",
              "      <th>9</th>\n",
              "      <td>2.0</td>\n",
              "      <td>0</td>\n",
              "      <td>0.116754</td>\n",
              "      <td>-1.125067</td>\n",
              "      <td>0</td>\n",
              "      <td>-0.487025</td>\n",
              "      <td>-0.067161</td>\n",
              "    </tr>\n",
              "  </tbody>\n",
              "</table>\n",
              "</div>\n",
              "    <div class=\"colab-df-buttons\">\n",
              "\n",
              "  <div class=\"colab-df-container\">\n",
              "    <button class=\"colab-df-convert\" onclick=\"convertToInteractive('df-12088493-645e-401e-b67a-59e47f486e3f')\"\n",
              "            title=\"Convert this dataframe to an interactive table.\"\n",
              "            style=\"display:none;\">\n",
              "\n",
              "  <svg xmlns=\"http://www.w3.org/2000/svg\" height=\"24px\" viewBox=\"0 -960 960 960\">\n",
              "    <path d=\"M120-120v-720h720v720H120Zm60-500h600v-160H180v160Zm220 220h160v-160H400v160Zm0 220h160v-160H400v160ZM180-400h160v-160H180v160Zm440 0h160v-160H620v160ZM180-180h160v-160H180v160Zm440 0h160v-160H620v160Z\"/>\n",
              "  </svg>\n",
              "    </button>\n",
              "\n",
              "  <style>\n",
              "    .colab-df-container {\n",
              "      display:flex;\n",
              "      gap: 12px;\n",
              "    }\n",
              "\n",
              "    .colab-df-convert {\n",
              "      background-color: #E8F0FE;\n",
              "      border: none;\n",
              "      border-radius: 50%;\n",
              "      cursor: pointer;\n",
              "      display: none;\n",
              "      fill: #1967D2;\n",
              "      height: 32px;\n",
              "      padding: 0 0 0 0;\n",
              "      width: 32px;\n",
              "    }\n",
              "\n",
              "    .colab-df-convert:hover {\n",
              "      background-color: #E2EBFA;\n",
              "      box-shadow: 0px 1px 2px rgba(60, 64, 67, 0.3), 0px 1px 3px 1px rgba(60, 64, 67, 0.15);\n",
              "      fill: #174EA6;\n",
              "    }\n",
              "\n",
              "    .colab-df-buttons div {\n",
              "      margin-bottom: 4px;\n",
              "    }\n",
              "\n",
              "    [theme=dark] .colab-df-convert {\n",
              "      background-color: #3B4455;\n",
              "      fill: #D2E3FC;\n",
              "    }\n",
              "\n",
              "    [theme=dark] .colab-df-convert:hover {\n",
              "      background-color: #434B5C;\n",
              "      box-shadow: 0px 1px 3px 1px rgba(0, 0, 0, 0.15);\n",
              "      filter: drop-shadow(0px 1px 2px rgba(0, 0, 0, 0.3));\n",
              "      fill: #FFFFFF;\n",
              "    }\n",
              "  </style>\n",
              "\n",
              "    <script>\n",
              "      const buttonEl =\n",
              "        document.querySelector('#df-12088493-645e-401e-b67a-59e47f486e3f button.colab-df-convert');\n",
              "      buttonEl.style.display =\n",
              "        google.colab.kernel.accessAllowed ? 'block' : 'none';\n",
              "\n",
              "      async function convertToInteractive(key) {\n",
              "        const element = document.querySelector('#df-12088493-645e-401e-b67a-59e47f486e3f');\n",
              "        const dataTable =\n",
              "          await google.colab.kernel.invokeFunction('convertToInteractive',\n",
              "                                                    [key], {});\n",
              "        if (!dataTable) return;\n",
              "\n",
              "        const docLinkHtml = 'Like what you see? Visit the ' +\n",
              "          '<a target=\"_blank\" href=https://colab.research.google.com/notebooks/data_table.ipynb>data table notebook</a>'\n",
              "          + ' to learn more about interactive tables.';\n",
              "        element.innerHTML = '';\n",
              "        dataTable['output_type'] = 'display_data';\n",
              "        await google.colab.output.renderOutput(dataTable, element);\n",
              "        const docLink = document.createElement('div');\n",
              "        docLink.innerHTML = docLinkHtml;\n",
              "        element.appendChild(docLink);\n",
              "      }\n",
              "    </script>\n",
              "  </div>\n",
              "\n",
              "\n",
              "<div id=\"df-722a3f89-afbd-4a56-ae1a-aa0204bb9cdc\">\n",
              "  <button class=\"colab-df-quickchart\" onclick=\"quickchart('df-722a3f89-afbd-4a56-ae1a-aa0204bb9cdc')\"\n",
              "            title=\"Suggest charts\"\n",
              "            style=\"display:none;\">\n",
              "\n",
              "<svg xmlns=\"http://www.w3.org/2000/svg\" height=\"24px\"viewBox=\"0 0 24 24\"\n",
              "     width=\"24px\">\n",
              "    <g>\n",
              "        <path d=\"M19 3H5c-1.1 0-2 .9-2 2v14c0 1.1.9 2 2 2h14c1.1 0 2-.9 2-2V5c0-1.1-.9-2-2-2zM9 17H7v-7h2v7zm4 0h-2V7h2v10zm4 0h-2v-4h2v4z\"/>\n",
              "    </g>\n",
              "</svg>\n",
              "  </button>\n",
              "\n",
              "<style>\n",
              "  .colab-df-quickchart {\n",
              "      --bg-color: #E8F0FE;\n",
              "      --fill-color: #1967D2;\n",
              "      --hover-bg-color: #E2EBFA;\n",
              "      --hover-fill-color: #174EA6;\n",
              "      --disabled-fill-color: #AAA;\n",
              "      --disabled-bg-color: #DDD;\n",
              "  }\n",
              "\n",
              "  [theme=dark] .colab-df-quickchart {\n",
              "      --bg-color: #3B4455;\n",
              "      --fill-color: #D2E3FC;\n",
              "      --hover-bg-color: #434B5C;\n",
              "      --hover-fill-color: #FFFFFF;\n",
              "      --disabled-bg-color: #3B4455;\n",
              "      --disabled-fill-color: #666;\n",
              "  }\n",
              "\n",
              "  .colab-df-quickchart {\n",
              "    background-color: var(--bg-color);\n",
              "    border: none;\n",
              "    border-radius: 50%;\n",
              "    cursor: pointer;\n",
              "    display: none;\n",
              "    fill: var(--fill-color);\n",
              "    height: 32px;\n",
              "    padding: 0;\n",
              "    width: 32px;\n",
              "  }\n",
              "\n",
              "  .colab-df-quickchart:hover {\n",
              "    background-color: var(--hover-bg-color);\n",
              "    box-shadow: 0 1px 2px rgba(60, 64, 67, 0.3), 0 1px 3px 1px rgba(60, 64, 67, 0.15);\n",
              "    fill: var(--button-hover-fill-color);\n",
              "  }\n",
              "\n",
              "  .colab-df-quickchart-complete:disabled,\n",
              "  .colab-df-quickchart-complete:disabled:hover {\n",
              "    background-color: var(--disabled-bg-color);\n",
              "    fill: var(--disabled-fill-color);\n",
              "    box-shadow: none;\n",
              "  }\n",
              "\n",
              "  .colab-df-spinner {\n",
              "    border: 2px solid var(--fill-color);\n",
              "    border-color: transparent;\n",
              "    border-bottom-color: var(--fill-color);\n",
              "    animation:\n",
              "      spin 1s steps(1) infinite;\n",
              "  }\n",
              "\n",
              "  @keyframes spin {\n",
              "    0% {\n",
              "      border-color: transparent;\n",
              "      border-bottom-color: var(--fill-color);\n",
              "      border-left-color: var(--fill-color);\n",
              "    }\n",
              "    20% {\n",
              "      border-color: transparent;\n",
              "      border-left-color: var(--fill-color);\n",
              "      border-top-color: var(--fill-color);\n",
              "    }\n",
              "    30% {\n",
              "      border-color: transparent;\n",
              "      border-left-color: var(--fill-color);\n",
              "      border-top-color: var(--fill-color);\n",
              "      border-right-color: var(--fill-color);\n",
              "    }\n",
              "    40% {\n",
              "      border-color: transparent;\n",
              "      border-right-color: var(--fill-color);\n",
              "      border-top-color: var(--fill-color);\n",
              "    }\n",
              "    60% {\n",
              "      border-color: transparent;\n",
              "      border-right-color: var(--fill-color);\n",
              "    }\n",
              "    80% {\n",
              "      border-color: transparent;\n",
              "      border-right-color: var(--fill-color);\n",
              "      border-bottom-color: var(--fill-color);\n",
              "    }\n",
              "    90% {\n",
              "      border-color: transparent;\n",
              "      border-bottom-color: var(--fill-color);\n",
              "    }\n",
              "  }\n",
              "</style>\n",
              "\n",
              "  <script>\n",
              "    async function quickchart(key) {\n",
              "      const quickchartButtonEl =\n",
              "        document.querySelector('#' + key + ' button');\n",
              "      quickchartButtonEl.disabled = true;  // To prevent multiple clicks.\n",
              "      quickchartButtonEl.classList.add('colab-df-spinner');\n",
              "      try {\n",
              "        const charts = await google.colab.kernel.invokeFunction(\n",
              "            'suggestCharts', [key], {});\n",
              "      } catch (error) {\n",
              "        console.error('Error during call to suggestCharts:', error);\n",
              "      }\n",
              "      quickchartButtonEl.classList.remove('colab-df-spinner');\n",
              "      quickchartButtonEl.classList.add('colab-df-quickchart-complete');\n",
              "    }\n",
              "    (() => {\n",
              "      let quickchartButtonEl =\n",
              "        document.querySelector('#df-722a3f89-afbd-4a56-ae1a-aa0204bb9cdc button');\n",
              "      quickchartButtonEl.style.display =\n",
              "        google.colab.kernel.accessAllowed ? 'block' : 'none';\n",
              "    })();\n",
              "  </script>\n",
              "</div>\n",
              "\n",
              "    </div>\n",
              "  </div>\n"
            ],
            "application/vnd.google.colaboratory.intrinsic+json": {
              "type": "dataframe",
              "variable_name": "final_data",
              "summary": "{\n  \"name\": \"final_data\",\n  \"rows\": 713,\n  \"fields\": [\n    {\n      \"column\": \"Pclass\",\n      \"properties\": {\n        \"dtype\": \"number\",\n        \"std\": 0.8340718266235612,\n        \"min\": 1.0,\n        \"max\": 3.0,\n        \"num_unique_values\": 3,\n        \"samples\": [\n          3.0,\n          1.0,\n          2.0\n        ],\n        \"semantic_type\": \"\",\n        \"description\": \"\"\n      }\n    },\n    {\n      \"column\": \"Sex\",\n      \"properties\": {\n        \"dtype\": \"number\",\n        \"std\": 0,\n        \"min\": 0,\n        \"max\": 1,\n        \"num_unique_values\": 2,\n        \"samples\": [\n          0,\n          1\n        ],\n        \"semantic_type\": \"\",\n        \"description\": \"\"\n      }\n    },\n    {\n      \"column\": \"Fare\",\n      \"properties\": {\n        \"dtype\": \"number\",\n        \"std\": 1.000702000788457,\n        \"min\": -0.9677903299091731,\n        \"max\": 4.978350004680044,\n        \"num_unique_values\": 235,\n        \"samples\": [\n          -0.7102152681924297,\n          -0.04494256373624923\n        ],\n        \"semantic_type\": \"\",\n        \"description\": \"\"\n      }\n    },\n    {\n      \"column\": \"Age\",\n      \"properties\": {\n        \"dtype\": \"number\",\n        \"std\": 1.0007020007884588,\n        \"min\": -2.106957851719213,\n        \"max\": 3.647008381251736,\n        \"num_unique_values\": 88,\n        \"samples\": [\n          2.490141583971827,\n          -0.5466337588879354\n        ],\n        \"semantic_type\": \"\",\n        \"description\": \"\"\n      }\n    },\n    {\n      \"column\": \"Embarked\",\n      \"properties\": {\n        \"dtype\": \"number\",\n        \"std\": 0,\n        \"min\": 0,\n        \"max\": 2,\n        \"num_unique_values\": 3,\n        \"samples\": [\n          2,\n          0\n        ],\n        \"semantic_type\": \"\",\n        \"description\": \"\"\n      }\n    },\n    {\n      \"column\": \"Parch\",\n      \"properties\": {\n        \"dtype\": \"number\",\n        \"std\": 1.000702000788454,\n        \"min\": -0.48702500872116467,\n        \"max\": 6.722293286466179,\n        \"num_unique_values\": 7,\n        \"samples\": [\n          -0.48702500872116467,\n          0.7145280404767259\n        ],\n        \"semantic_type\": \"\",\n        \"description\": \"\"\n      }\n    },\n    {\n      \"column\": \"Rate_per_person\",\n      \"properties\": {\n        \"dtype\": \"number\",\n        \"std\": 1.000702000788457,\n        \"min\": -0.9934229890439996,\n        \"max\": 5.837585569677485,\n        \"num_unique_values\": 268,\n        \"samples\": [\n          -0.23721686911154605,\n          0.6329592159431103\n        ],\n        \"semantic_type\": \"\",\n        \"description\": \"\"\n      }\n    }\n  ]\n}"
            }
          },
          "metadata": {},
          "execution_count": 139
        }
      ],
      "source": [
        "\n",
        "# data has four numerical and three catogorical data will use chi square for catorgorical to catogorical and anova for numerical to catogorical\n",
        "print(\"Choosing importance based on any scores which are greater 5 which seem to indicate some level of significance\\n\")\n",
        "data_cols_chi=[\"Pclass\",\"Sex\",\"Embarked\"]\n",
        "data_cols_anova=[\"Age\",\"SibSp\",\"Parch\",\"Fare\",\"Family\",\"Rate_per_person\"]\n",
        "fs_chi = SelectKBest(score_func = chi2, k = 2 )\n",
        "fs_anova = SelectKBest(score_func = f_classif, k =4)\n",
        "\n",
        "target_class=data[\"Survived\"]\n",
        "main_data_chi=data[data_cols_chi]\n",
        "main_data_anova=data[data_cols_anova]\n",
        "fs_chi.fit(main_data_chi,target_class)\n",
        "main_data_chi=fs_chi.transform(main_data_chi)\n",
        "fs_anova.fit(main_data_anova,target_class)\n",
        "for i in range(len(data_cols_chi)):\n",
        "  print(\"chi square score for \",data_cols_chi[i],\":\",fs_chi.scores_[i],\"\\n\")\n",
        "print(\"Based on chi square choose Pclass,Sex,Embarked as have score greater than 5\", \"\\n\")\n",
        "\n",
        "for i in range(len(data_cols_anova)):\n",
        "  print(\"anova score for \",data_cols_anova[i],\":\",fs_anova.scores_[i],\"\\n\")\n",
        "print(\"Choose anova scores greater than 5 which include Age,Fare,Parch,Rate_per_person\\n\")\n",
        "final_data=data[[\"Pclass\",\"Sex\",\"Fare\",\"Age\",\"Embarked\",\"Parch\",\"Rate_per_person\"]]\n",
        "print(\"The final data\\n\")\n",
        "final_data.head(n=10)\n",
        "\n",
        "\n",
        "\n",
        "\n",
        "\n",
        "\n"
      ]
    },
    {
      "cell_type": "markdown",
      "source": [
        "Training Model"
      ],
      "metadata": {
        "id": "_nL-kHHOsPgZ"
      }
    },
    {
      "cell_type": "code",
      "execution_count": 140,
      "metadata": {
        "id": "Hc1BwOtoh1SY"
      },
      "outputs": [],
      "source": [
        "from sklearn.model_selection import train_test_split\n",
        "from sklearn.model_selection import StratifiedKFold\n",
        "from sklearn.linear_model import LogisticRegression\n",
        "from sklearn import svm\n",
        "import matplotlib.pyplot as plt\n",
        "from sklearn.ensemble import RandomForestClassifier\n",
        "from sklearn.metrics import accuracy_score,f1_score\n",
        "from sklearn.svm import SVC\n",
        "from sklearn.model_selection import GridSearchCV,RandomizedSearchCV\n",
        "import seaborn as sns\n",
        "from sklearn.model_selection import cross_val_score\n",
        "from sklearn.neighbors import KNeighborsClassifier"
      ]
    },
    {
      "cell_type": "code",
      "source": [
        "print(data['Survived'].value_counts())#As the number of data not equally distributed need to use Stratified K fold\n",
        "print(\"Values imbalance as number of survived greater that number of not survived\")\n",
        "print(\"As a result used Stratified k method to ensure equal \")"
      ],
      "metadata": {
        "colab": {
          "base_uri": "https://localhost:8080/"
        },
        "id": "lJPB7xD8inCN",
        "outputId": "8f7dfe2b-e759-4936-d4b4-c9ef41869df7"
      },
      "execution_count": 141,
      "outputs": [
        {
          "output_type": "stream",
          "name": "stdout",
          "text": [
            "Survived\n",
            "0    426\n",
            "1    287\n",
            "Name: count, dtype: int64\n",
            "Values imbalance as number of survived greater that number of not survived\n",
            "As a result used Stratified k method to ensure equal \n"
          ]
        }
      ]
    },
    {
      "cell_type": "markdown",
      "source": [
        "Preparing data for training"
      ],
      "metadata": {
        "id": "qozVJve5CPbR"
      }
    },
    {
      "cell_type": "code",
      "source": [
        "X=final_data\n",
        "y=data['Survived']\n",
        "X_train, x_test, Y_train, y_test = train_test_split(X, y, test_size=0.2, random_state=0,shuffle=True)\n",
        "X_train = X_train.to_numpy()\n",
        "y_train = Y_train.to_numpy().ravel() # reshape from 2d to 1d so that sklearn doesn't complain about the shape\n",
        "X_test = x_test.to_numpy()\n",
        "y_test = y_test.to_numpy().ravel()"
      ],
      "metadata": {
        "id": "tvGQArAyCIet"
      },
      "execution_count": 142,
      "outputs": []
    },
    {
      "cell_type": "markdown",
      "source": [
        "Function used  to Calculate F scores and accuracy"
      ],
      "metadata": {
        "id": "ihLxFp4wDPQq"
      }
    },
    {
      "cell_type": "code",
      "source": [
        "def Get_Accuracy_Scores(model,X_train,X_test,y_train,y_test):\n",
        "  # Gets f1 and accuracy score\n",
        "   main_model=model.fit(X_train,y_train)\n",
        "   y_predict_test=main_model.predict(X_test)\n",
        "   y_predict_train=main_model.predict(X_train)\n",
        "   test_accuracy = accuracy_score(y_test, y_predict_test)\n",
        "   train_accuracy=accuracy_score(y_train,y_predict_train)\n",
        "   train_f1 = f1_score(y_train, y_predict_train, average=\"weighted\")\n",
        "   test_f1 = f1_score(y_test, y_predict_test, average=\"weighted\")\n",
        "   return test_accuracy,train_accuracy,test_f1,train_f1\n"
      ],
      "metadata": {
        "id": "73esWAlobdDI"
      },
      "execution_count": 143,
      "outputs": []
    },
    {
      "cell_type": "markdown",
      "source": [
        "Random Forrest  model"
      ],
      "metadata": {
        "id": "d-1i-gYoFRGK"
      }
    },
    {
      "cell_type": "code",
      "execution_count": 144,
      "metadata": {
        "colab": {
          "base_uri": "https://localhost:8080/"
        },
        "id": "yXrrqHWAUhl1",
        "outputId": "7e4d2214-68bc-4e4c-841d-d903be61d5d3"
      },
      "outputs": [
        {
          "output_type": "stream",
          "name": "stdout",
          "text": [
            "Train Accuracy: 0.8\n",
            "Test Accuracy: 0.7902097902097902\n",
            "Train F1 Score: 0.7913773628557041\n",
            "Test F1 Score: 0.7788639931497074\n"
          ]
        }
      ],
      "source": [
        "#Takes 50 second to rund\n",
        "Stratifiedk_rf=StratifiedKFold(n_splits=10)\n",
        "rf = RandomForestClassifier(random_state=46,min_samples_leaf=20,max_features=None, n_jobs=-1,min_samples_split=10,oob_score=True)\n",
        "rf_param_grid={\"criterion\":[\"gini\", \"entropy\", \"log_loss\"],\"n_estimators\":[20,30,40,50,60,70,80,90,100]}\n",
        "validation_rf=GridSearchCV(rf,rf_param_grid,cv=Stratifiedk_rf)\n",
        "fit_rf=validation_rf.fit(X_train,y_train)\n",
        "rf_model=fit_rf.best_estimator_\n",
        "test_accuracy,train_accuracy,test_f1,train_f1=Get_Accuracy_Scores(rf_model,X_train,X_test,y_train,y_test)\n",
        "\n",
        "print(\"Train Accuracy:\", train_accuracy)\n",
        "print(\"Test Accuracy:\", test_accuracy)\n",
        "print(\"Train F1 Score:\", train_f1)\n",
        "print(\"Test F1 Score:\", test_f1)\n",
        "\n"
      ]
    },
    {
      "cell_type": "markdown",
      "source": [
        "Logistic regression model"
      ],
      "metadata": {
        "id": "XWRHBfOsFfAI"
      }
    },
    {
      "cell_type": "code",
      "execution_count": 145,
      "metadata": {
        "colab": {
          "base_uri": "https://localhost:8080/"
        },
        "id": "tRQ7-vV-EREt",
        "outputId": "1359b75e-9efe-44d2-cedf-87191c0cd761"
      },
      "outputs": [
        {
          "output_type": "stream",
          "name": "stdout",
          "text": [
            "Train Accuracy: 0.7701754385964912\n",
            "Test Accuracy: 0.7762237762237763\n",
            "Train F1 Score: 0.7670391679859958\n",
            "Test F1 Score: 0.7707581172626765\n"
          ]
        }
      ],
      "source": [
        "Stratified_log=StratifiedKFold(n_splits=10)\n",
        "log = LogisticRegression(random_state=0)\n",
        "param={\"C\":[1e-3, 1e-2, 0.1, 1, 10, 1e2, 1e3,10000]}\n",
        "validation_log = GridSearchCV(log, param,cv=Stratified_log)\n",
        "fit_log=validation_log.fit(X_train,y_train)\n",
        "best_model_log=fit_log.best_estimator_\n",
        "test_accuracy,train_accuracy,test_f1,train_f1=Get_Accuracy_Scores(best_model_log,X_train,X_test,y_train,y_test)\n",
        "\n",
        "print(\"Train Accuracy:\", train_accuracy)\n",
        "print(\"Test Accuracy:\", test_accuracy)\n",
        "print(\"Train F1 Score:\", train_f1)\n",
        "print(\"Test F1 Score:\", test_f1)\n",
        "\n"
      ]
    },
    {
      "cell_type": "markdown",
      "source": [
        "Svm model"
      ],
      "metadata": {
        "id": "15jmPDQdFlDl"
      }
    },
    {
      "cell_type": "code",
      "execution_count": 146,
      "metadata": {
        "colab": {
          "base_uri": "https://localhost:8080/"
        },
        "id": "v-YUrbY68wt5",
        "outputId": "a8b5eae3-f04d-48fa-95d5-2e8317bfc31a"
      },
      "outputs": [
        {
          "output_type": "stream",
          "name": "stdout",
          "text": [
            "Train Accuracy: 0.8228070175438597\n",
            "Test Accuracy: 0.8041958041958042\n",
            "Train F1 Score: 0.8184008634978892\n",
            "Test F1 Score: 0.7967533353171651\n"
          ]
        }
      ],
      "source": [
        "\n",
        "svm_model = SVC(random_state=0)\n",
        "svm_param={\"Kernel\":[\"linear\", \"poly\", \"rbf\", \"sigmoid\"],\"C\":[0.001, 0.01, 0.1,0.5,1,10,100,1000,10000],\"gamma\":[\"scale\",\"auto\"]}\n",
        "StratifiedSvm=StratifiedKFold(n_splits=10)\n",
        "validation = GridSearchCV(svm_model, param,cv=StratifiedSvm)\n",
        "\n",
        "new_score=validation.fit(X_train,y_train)\n",
        "best_model=new_score.best_estimator_\n",
        "test_accuracy,train_accuracy,test_f1,train_f1=Get_Accuracy_Scores(best_model,X_train,X_test,y_train,y_test)\n",
        "\n",
        "\n",
        "print(\"Train Accuracy:\", train_accuracy)\n",
        "print(\"Test Accuracy:\", test_accuracy)\n",
        "print(\"Train F1 Score:\", train_f1)\n",
        "print(\"Test F1 Score:\", test_f1)\n",
        "\n",
        "\n"
      ]
    },
    {
      "cell_type": "markdown",
      "source": [
        "K Neibours classiffier model"
      ],
      "metadata": {
        "id": "f2ikrxGnFovU"
      }
    },
    {
      "cell_type": "code",
      "execution_count": 147,
      "metadata": {
        "colab": {
          "base_uri": "https://localhost:8080/"
        },
        "id": "eZkstO9MzuJk",
        "outputId": "43cbcb13-7330-4ddd-ab03-6bbd4b97a044"
      },
      "outputs": [
        {
          "output_type": "stream",
          "name": "stdout",
          "text": [
            "Train Accuracy: 0.7894736842105263\n",
            "Test Accuracy: 0.8111888111888111\n",
            "Train F1 Score: 0.7828503273613155\n",
            "Test F1 Score: 0.8032993247768444\n"
          ]
        },
        {
          "output_type": "stream",
          "name": "stderr",
          "text": [
            "/usr/local/lib/python3.10/dist-packages/numpy/ma/core.py:2820: RuntimeWarning: invalid value encountered in cast\n",
            "  _data = np.array(data, dtype=dtype, copy=copy,\n"
          ]
        }
      ],
      "source": [
        "knn=KNeighborsClassifier(metric=\"minkowski\",metric_params=None, n_jobs=-1)\n",
        "Stratifiedk_knn=StratifiedKFold(n_splits=10)\n",
        "param_k={\"n_neighbors\":[10,20,30,40,50],\"weights\":[\"uniform\", \"distance\"],\"algorithm\":[\"auto\", \"ball_tree\", \"kd_tree\", \"brute\"],\"leaf_size\":[10,20,30,40,50],\"p\":[1,2]}\n",
        "validation = GridSearchCV(knn, param_k,cv=Stratifiedk_knn)\n",
        "new_score=validation.fit(X_train,y_train)\n",
        "best_knn=new_score.best_estimator_\n",
        "test_accuracy,train_accuracy,test_f1,train_f1=Get_Accuracy_Scores(best_knn,X_train,X_test,y_train,y_test)\n",
        "\n",
        "print(\"Train Accuracy:\", train_accuracy)\n",
        "print(\"Test Accuracy:\", test_accuracy)\n",
        "print(\"Train F1 Score:\", train_f1)\n",
        "print(\"Test F1 Score:\", test_f1)\n",
        "\n"
      ]
    },
    {
      "cell_type": "code",
      "source": [
        "print(\"Chose knn as it consitantly has test accuracies in around 0.8 which is quite high with lower train accuracy indicating that it is not over fitting\")"
      ],
      "metadata": {
        "colab": {
          "base_uri": "https://localhost:8080/"
        },
        "id": "jmhaCYey8sJV",
        "outputId": "457382a2-211a-4872-cd69-87bac6e4c86f"
      },
      "execution_count": 148,
      "outputs": [
        {
          "output_type": "stream",
          "name": "stdout",
          "text": [
            "Chose knn as it consitantly has test accuracies in around 0.8 which is quite high with lower train accuracy indicating that it is not over fitting\n"
          ]
        }
      ]
    },
    {
      "cell_type": "markdown",
      "source": [
        "---"
      ],
      "metadata": {
        "id": "AJkA9_yNI_B1"
      }
    },
    {
      "cell_type": "markdown",
      "source": [
        "### Write your report here"
      ],
      "metadata": {
        "id": "4R43Ac9PJHhz"
      }
    },
    {
      "cell_type": "markdown",
      "source": [
        "**Data pre processing**\n",
        "\n",
        "The First thing I did was analyze data for columns which I thought were useless to be dropped which included Name,passenger Id  and ticket which I believed to be more like indexes having no correlation to whether someone survived or not. After dropping uncorrelated columns I checked the data for null values where I realized that most of the cabin contained null values. As a result I decided to drop the cabin. For the case of age I decided to replace it with the median of the data as the null values of age contained around one tenth of the data which is not significant enough to drop the column but is significant enough that dropping the rows may significantly affect the model we want to build. As a result I replaced the null values in age with the median value of the age as the median generally is not affected by the skew of the data. I then removed the rest of the null values using drop Na.I also realized some of the data had some negative values which are wrong values in themselves where the age and sisb columns can only be positive so I removed these primitively as they are not outliers but rather simply incorrect values like null. I then did some feature creation where I added a new column called family which is simply the total siblings columns plus the family plus 1 which includes yourself and a fare per person which is the total family divided by rate. I added this believing that it would help improve the overall accuracy of the model.  After that I removed all outliers which were three standard deviations away from the mean which I got was approximately 30. Then I standardize the data. I initially tried min max scaler but got worse results in my model so I ended up using standard scalar. After standardizing the data I wanted to see the importance of the features however some of the features were categorical and some the features were numerical so instead I used a combination of anova test on  the numerical data and chi square test on categorical data. To choose the feature I simply chose any feature which was able to get higher than 5 which I considered at least marginally significant.\n",
        "\n",
        "\n",
        "\n",
        "\n",
        " **Training model**:\n",
        "\n",
        "\n",
        "To Train the model I decided to use a stratified k fold method to cross validate all my data as I looked at the end data and the ratio of survivors to non survivors was 2:1 which was imbalanced. I chose four models to train the data on which included logistic regression, random forest, support vector machine and kneighborsclassifier. To tune the hyper parameters I initially simply used a for loop to increment through how the model would perform with different hyper parameters however what I realized was if I wanted to tune multiple hyper parameters at the same time I would have to add multiple for loops which would make the overall tuning a hassle so instead a I used gridsearch which take in the model and a grid of hyper parameter with the range of values they could take to tune the model. This however came at the cost of a longer time so as result for random forest  I had to make some compromises on the number of hyper parameters I could choose. To tune hyperparameters I simply went to the documentation of each sklearn function and used them to get a range of hyper parameters. After making the models I wanted to know how well they performed so I used accuracy score and F1 score to figure out on average how well my model was performing.\n",
        "\n",
        "\n",
        "Result: From the result I believe that Knn is the best model to classify the data. Not only does it have a very high test accuracy and F score accuracy of 0.8 on the test it also has a lower train accuracy indicating that it is not over-fitting to the data.\n",
        "\n",
        "\n",
        "**Insight gained:**\n",
        "\n",
        "The main insight I gained was how difficult it is to gain a model of good accuracy as throughout the exercise I had to make many incremental adjustments to improve the quality of the model. For example I had to experiment many times with removing and adding columns and about how significantly it could affect the accuracy. Even when I would make incremental adjustments sometimes the model would become worse and so improving the quality of the model was a game of fine tuning and adjustments.\n"
      ],
      "metadata": {
        "id": "5GCVN0-dJJOS"
      }
    }
  ],
  "metadata": {
    "colab": {
      "provenance": []
    },
    "kernelspec": {
      "display_name": "Python 3",
      "name": "python3"
    },
    "language_info": {
      "name": "python"
    }
  },
  "nbformat": 4,
  "nbformat_minor": 0
}